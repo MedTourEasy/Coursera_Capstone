{
    "metadata": {
        "language_info": {
            "name": "python", 
            "mimetype": "text/x-python", 
            "nbconvert_exporter": "python", 
            "pygments_lexer": "ipython3", 
            "codemirror_mode": {
                "name": "ipython", 
                "version": 3
            }, 
            "file_extension": ".py", 
            "version": "3.5.5"
        }, 
        "kernelspec": {
            "display_name": "Python 3.5", 
            "name": "python3", 
            "language": "python"
        }
    }, 
    "nbformat": 4, 
    "cells": [
        {
            "metadata": {
                "collapsed": true
            }, 
            "source": "### Capstone Project - IBM Data Science Professional Certificate\n## Project: Battle of the Neighborhoods  \n\nIn this project location data provided by Squarespace will be used to cluster and assess the quality of various neighborhoods in Toronto, Canada", 
            "cell_type": "markdown"
        }, 
        {
            "source": "import pandas as pd\nimport numpy as np", 
            "metadata": {}, 
            "execution_count": 2, 
            "cell_type": "code", 
            "outputs": []
        }, 
        {
            "source": "print('Hello Capstone Project Course!')", 
            "metadata": {}, 
            "execution_count": 3, 
            "cell_type": "code", 
            "outputs": [
                {
                    "name": "stdout", 
                    "output_type": "stream", 
                    "text": "Hello Capstone Project Course!\n"
                }
            ]
        }, 
        {
            "source": "", 
            "metadata": {}, 
            "execution_count": null, 
            "cell_type": "code", 
            "outputs": []
        }
    ], 
    "nbformat_minor": 1
}